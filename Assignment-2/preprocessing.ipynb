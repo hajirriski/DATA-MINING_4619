import imp
import numpy as np
import matlotlib.pyplot as plt
import pandas as pd

dataset = pd.read_csv('G:\IT\SMT 6\Data Mining\gitub\DATA-MINING_4619\DATA-MINING_4619\Assignment-2\Data.csv')
x = dataset.iloc[:, -1].values
y = dataset.iloc[:, -1].values


from sklearn.model_selection import train_test_split
X_train, X_test

